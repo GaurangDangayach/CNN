{
  "nbformat": 4,
  "nbformat_minor": 0,
  "metadata": {
    "colab": {
      "name": "ResNet.ipynb",
      "provenance": [],
      "collapsed_sections": []
    },
    "kernelspec": {
      "name": "python3",
      "display_name": "Python 3"
    },
    "language_info": {
      "name": "python"
    },
    "accelerator": "GPU",
    "widgets": {
      "application/vnd.jupyter.widget-state+json": {
        "75e066d7d82844319c7cfd3bbf382811": {
          "model_module": "@jupyter-widgets/controls",
          "model_name": "HBoxModel",
          "state": {
            "_view_name": "HBoxView",
            "_dom_classes": [],
            "_model_name": "HBoxModel",
            "_view_module": "@jupyter-widgets/controls",
            "_model_module_version": "1.5.0",
            "_view_count": null,
            "_view_module_version": "1.5.0",
            "box_style": "",
            "layout": "IPY_MODEL_e4a134b30bbf4c81a5e35b4818c2b4d8",
            "_model_module": "@jupyter-widgets/controls",
            "children": [
              "IPY_MODEL_a246e67c4662498a8376f9098a313dbc",
              "IPY_MODEL_ea8411de66ab477cb50bf54454ff3be3"
            ]
          }
        },
        "e4a134b30bbf4c81a5e35b4818c2b4d8": {
          "model_module": "@jupyter-widgets/base",
          "model_name": "LayoutModel",
          "state": {
            "_view_name": "LayoutView",
            "grid_template_rows": null,
            "right": null,
            "justify_content": null,
            "_view_module": "@jupyter-widgets/base",
            "overflow": null,
            "_model_module_version": "1.2.0",
            "_view_count": null,
            "flex_flow": null,
            "width": null,
            "min_width": null,
            "border": null,
            "align_items": null,
            "bottom": null,
            "_model_module": "@jupyter-widgets/base",
            "top": null,
            "grid_column": null,
            "overflow_y": null,
            "overflow_x": null,
            "grid_auto_flow": null,
            "grid_area": null,
            "grid_template_columns": null,
            "flex": null,
            "_model_name": "LayoutModel",
            "justify_items": null,
            "grid_row": null,
            "max_height": null,
            "align_content": null,
            "visibility": null,
            "align_self": null,
            "height": null,
            "min_height": null,
            "padding": null,
            "grid_auto_rows": null,
            "grid_gap": null,
            "max_width": null,
            "order": null,
            "_view_module_version": "1.2.0",
            "grid_template_areas": null,
            "object_position": null,
            "object_fit": null,
            "grid_auto_columns": null,
            "margin": null,
            "display": null,
            "left": null
          }
        },
        "a246e67c4662498a8376f9098a313dbc": {
          "model_module": "@jupyter-widgets/controls",
          "model_name": "FloatProgressModel",
          "state": {
            "_view_name": "ProgressView",
            "style": "IPY_MODEL_fc378fb1ba244f0899d360897b9cb69c",
            "_dom_classes": [],
            "description": "",
            "_model_name": "FloatProgressModel",
            "bar_style": "success",
            "max": 170498071,
            "_view_module": "@jupyter-widgets/controls",
            "_model_module_version": "1.5.0",
            "value": 170498071,
            "_view_count": null,
            "_view_module_version": "1.5.0",
            "orientation": "horizontal",
            "min": 0,
            "description_tooltip": null,
            "_model_module": "@jupyter-widgets/controls",
            "layout": "IPY_MODEL_ad5e6ee33dc5480a8f7c054eb1bbc532"
          }
        },
        "ea8411de66ab477cb50bf54454ff3be3": {
          "model_module": "@jupyter-widgets/controls",
          "model_name": "HTMLModel",
          "state": {
            "_view_name": "HTMLView",
            "style": "IPY_MODEL_796cd4cadb624986b84719144ffbb2c9",
            "_dom_classes": [],
            "description": "",
            "_model_name": "HTMLModel",
            "placeholder": "​",
            "_view_module": "@jupyter-widgets/controls",
            "_model_module_version": "1.5.0",
            "value": " 170499072/? [14:53&lt;00:00, 190899.51it/s]",
            "_view_count": null,
            "_view_module_version": "1.5.0",
            "description_tooltip": null,
            "_model_module": "@jupyter-widgets/controls",
            "layout": "IPY_MODEL_a36523d0638c458f972607abff7f4a0f"
          }
        },
        "fc378fb1ba244f0899d360897b9cb69c": {
          "model_module": "@jupyter-widgets/controls",
          "model_name": "ProgressStyleModel",
          "state": {
            "_view_name": "StyleView",
            "_model_name": "ProgressStyleModel",
            "description_width": "initial",
            "_view_module": "@jupyter-widgets/base",
            "_model_module_version": "1.5.0",
            "_view_count": null,
            "_view_module_version": "1.2.0",
            "bar_color": null,
            "_model_module": "@jupyter-widgets/controls"
          }
        },
        "ad5e6ee33dc5480a8f7c054eb1bbc532": {
          "model_module": "@jupyter-widgets/base",
          "model_name": "LayoutModel",
          "state": {
            "_view_name": "LayoutView",
            "grid_template_rows": null,
            "right": null,
            "justify_content": null,
            "_view_module": "@jupyter-widgets/base",
            "overflow": null,
            "_model_module_version": "1.2.0",
            "_view_count": null,
            "flex_flow": null,
            "width": null,
            "min_width": null,
            "border": null,
            "align_items": null,
            "bottom": null,
            "_model_module": "@jupyter-widgets/base",
            "top": null,
            "grid_column": null,
            "overflow_y": null,
            "overflow_x": null,
            "grid_auto_flow": null,
            "grid_area": null,
            "grid_template_columns": null,
            "flex": null,
            "_model_name": "LayoutModel",
            "justify_items": null,
            "grid_row": null,
            "max_height": null,
            "align_content": null,
            "visibility": null,
            "align_self": null,
            "height": null,
            "min_height": null,
            "padding": null,
            "grid_auto_rows": null,
            "grid_gap": null,
            "max_width": null,
            "order": null,
            "_view_module_version": "1.2.0",
            "grid_template_areas": null,
            "object_position": null,
            "object_fit": null,
            "grid_auto_columns": null,
            "margin": null,
            "display": null,
            "left": null
          }
        },
        "796cd4cadb624986b84719144ffbb2c9": {
          "model_module": "@jupyter-widgets/controls",
          "model_name": "DescriptionStyleModel",
          "state": {
            "_view_name": "StyleView",
            "_model_name": "DescriptionStyleModel",
            "description_width": "",
            "_view_module": "@jupyter-widgets/base",
            "_model_module_version": "1.5.0",
            "_view_count": null,
            "_view_module_version": "1.2.0",
            "_model_module": "@jupyter-widgets/controls"
          }
        },
        "a36523d0638c458f972607abff7f4a0f": {
          "model_module": "@jupyter-widgets/base",
          "model_name": "LayoutModel",
          "state": {
            "_view_name": "LayoutView",
            "grid_template_rows": null,
            "right": null,
            "justify_content": null,
            "_view_module": "@jupyter-widgets/base",
            "overflow": null,
            "_model_module_version": "1.2.0",
            "_view_count": null,
            "flex_flow": null,
            "width": null,
            "min_width": null,
            "border": null,
            "align_items": null,
            "bottom": null,
            "_model_module": "@jupyter-widgets/base",
            "top": null,
            "grid_column": null,
            "overflow_y": null,
            "overflow_x": null,
            "grid_auto_flow": null,
            "grid_area": null,
            "grid_template_columns": null,
            "flex": null,
            "_model_name": "LayoutModel",
            "justify_items": null,
            "grid_row": null,
            "max_height": null,
            "align_content": null,
            "visibility": null,
            "align_self": null,
            "height": null,
            "min_height": null,
            "padding": null,
            "grid_auto_rows": null,
            "grid_gap": null,
            "max_width": null,
            "order": null,
            "_view_module_version": "1.2.0",
            "grid_template_areas": null,
            "object_position": null,
            "object_fit": null,
            "grid_auto_columns": null,
            "margin": null,
            "display": null,
            "left": null
          }
        }
      }
    }
  },
  "cells": [
    {
      "cell_type": "markdown",
      "metadata": {
        "id": "jcMJ3Nb8X94M"
      },
      "source": [
        "The model is based on the ResNet architecture and I have implemented a 20 layer network (n=3) and trained it on the CIFAR-10 dataset. The architecture is given the original paper for the CIFAR-10 dataset. "
      ]
    },
    {
      "cell_type": "code",
      "metadata": {
        "id": "P0nT2UHEadx_"
      },
      "source": [
        "import numpy as np\n",
        "import torch"
      ],
      "execution_count": 1,
      "outputs": []
    },
    {
      "cell_type": "code",
      "metadata": {
        "id": "8e5N1zb4Qmht"
      },
      "source": [
        "gpu=torch.cuda.is_available()"
      ],
      "execution_count": 2,
      "outputs": []
    },
    {
      "cell_type": "code",
      "metadata": {
        "colab": {
          "base_uri": "https://localhost:8080/",
          "height": 116,
          "referenced_widgets": [
            "75e066d7d82844319c7cfd3bbf382811",
            "e4a134b30bbf4c81a5e35b4818c2b4d8",
            "a246e67c4662498a8376f9098a313dbc",
            "ea8411de66ab477cb50bf54454ff3be3",
            "fc378fb1ba244f0899d360897b9cb69c",
            "ad5e6ee33dc5480a8f7c054eb1bbc532",
            "796cd4cadb624986b84719144ffbb2c9",
            "a36523d0638c458f972607abff7f4a0f"
          ]
        },
        "id": "-dY1UeQvbMM4",
        "outputId": "96e9a3b0-891e-46d1-84c0-96f4b6dc3336"
      },
      "source": [
        "from torchvision import datasets\n",
        "from torchvision import transforms as transforms\n",
        "transform = transforms.Compose([transforms.ToTensor(),transforms.Normalize((0.5,0.5,0.5),(0.5,0.5,0.5))])\n",
        "\n",
        "traindata=datasets.CIFAR10('data',download=True,train=True,transform=transform)\n",
        "trainloader=torch.utils.data.DataLoader(traindata,batch_size=64,shuffle=True)\n",
        "testdata=datasets.CIFAR10('data',download=True,train=False,transform=transform)\n",
        "testloader=torch.utils.data.DataLoader(traindata,batch_size=64,shuffle=True)"
      ],
      "execution_count": 3,
      "outputs": [
        {
          "output_type": "stream",
          "text": [
            "Downloading https://www.cs.toronto.edu/~kriz/cifar-10-python.tar.gz to data/cifar-10-python.tar.gz\n"
          ],
          "name": "stdout"
        },
        {
          "output_type": "display_data",
          "data": {
            "application/vnd.jupyter.widget-view+json": {
              "model_id": "75e066d7d82844319c7cfd3bbf382811",
              "version_minor": 0,
              "version_major": 2
            },
            "text/plain": [
              "HBox(children=(FloatProgress(value=0.0, max=170498071.0), HTML(value='')))"
            ]
          },
          "metadata": {
            "tags": []
          }
        },
        {
          "output_type": "stream",
          "text": [
            "\n",
            "Extracting data/cifar-10-python.tar.gz to data\n",
            "Files already downloaded and verified\n"
          ],
          "name": "stdout"
        }
      ]
    },
    {
      "cell_type": "code",
      "metadata": {
        "id": "0MUmqdhVcabi"
      },
      "source": [
        "import torch.nn as nn\n",
        "import torch.nn.functional as F\n",
        "\n",
        "class Net(nn.Module):\n",
        "  def __init__(self,n):\n",
        "    super(Net,self).__init__()\n",
        "    self.conv0=nn.Conv2d(3,16,3,padding=1)\n",
        "    self.conv11=nn.Conv2d(16,16,3,padding=1)\n",
        "    self.conv12=nn.Conv2d(16,16,3,padding=1)\n",
        "    self.short1=nn.Identity()\n",
        "    self.conv21=nn.Conv2d(16,32,3,2,1)\n",
        "    self.conv22=nn.Conv2d(32,32,3,padding=1)\n",
        "    self.short2=nn.Conv2d(16,32,1,2)\n",
        "    self.conv31=nn.Conv2d(32,64,3,2,1)\n",
        "    self.conv32=nn.Conv2d(64,64,3,padding=1)\n",
        "    self.short3=nn.Conv2d(32,64,1,2)\n",
        "    self.pool=nn.AvgPool2d(8)\n",
        "    self.fc=nn.Linear(64,10)\n",
        "    self.n=n\n",
        "\n",
        "  def forward(self,x):\n",
        "    n=self.n\n",
        "\n",
        "    x=F.relu(self.conv0(x))\n",
        "\n",
        "    for i in range(n):\n",
        "      idx=self.short1(x)\n",
        "      x=F.relu(self.conv11(x))\n",
        "      x=self.conv12(x)\n",
        "      x=F.relu(x+idx)\n",
        "    \n",
        "    idx=self.short2(x)\n",
        "    x=F.relu(self.conv21(x))\n",
        "    x=self.conv22(x)\n",
        "    x=F.relu(x+idx)\n",
        "    for i in range(n-1):\n",
        "      idx=self.short1(x)\n",
        "      x=F.relu(self.conv22(x))\n",
        "      x=self.conv22(x)\n",
        "      x=F.relu(x+idx)\n",
        "\n",
        "    idx=self.short3(x)\n",
        "    x=F.relu(self.conv31(x))\n",
        "    x=self.conv32(x)\n",
        "    x=F.relu(x+idx)\n",
        "    for i in range(n-1):\n",
        "      idx=self.short1(x)\n",
        "      x=F.relu(self.conv32(x))\n",
        "      x=self.conv32(x)\n",
        "      x=F.relu(x+idx)\n",
        "\n",
        "    x=self.pool(x)\n",
        "    x=torch.flatten(x,1)\n",
        "    #print(x.shape)\n",
        "    x=self.fc(x)\n",
        "    x=F.log_softmax(x,dim=1)\n",
        "\n",
        "    return x"
      ],
      "execution_count": 4,
      "outputs": []
    },
    {
      "cell_type": "code",
      "metadata": {
        "colab": {
          "base_uri": "https://localhost:8080/"
        },
        "id": "YgfsFsZxhDYQ",
        "outputId": "ab4922cf-c1e9-4e4c-bb3f-15a109dc7c6d"
      },
      "source": [
        "model=Net(3)\n",
        "print(model)\n",
        "if gpu:\n",
        "  model.cuda()"
      ],
      "execution_count": 9,
      "outputs": [
        {
          "output_type": "stream",
          "text": [
            "Net(\n",
            "  (conv0): Conv2d(3, 16, kernel_size=(3, 3), stride=(1, 1), padding=(1, 1))\n",
            "  (conv11): Conv2d(16, 16, kernel_size=(3, 3), stride=(1, 1), padding=(1, 1))\n",
            "  (conv12): Conv2d(16, 16, kernel_size=(3, 3), stride=(1, 1), padding=(1, 1))\n",
            "  (short1): Identity()\n",
            "  (conv21): Conv2d(16, 32, kernel_size=(3, 3), stride=(2, 2), padding=(1, 1))\n",
            "  (conv22): Conv2d(32, 32, kernel_size=(3, 3), stride=(1, 1), padding=(1, 1))\n",
            "  (short2): Conv2d(16, 32, kernel_size=(1, 1), stride=(2, 2))\n",
            "  (conv31): Conv2d(32, 64, kernel_size=(3, 3), stride=(2, 2), padding=(1, 1))\n",
            "  (conv32): Conv2d(64, 64, kernel_size=(3, 3), stride=(1, 1), padding=(1, 1))\n",
            "  (short3): Conv2d(32, 64, kernel_size=(1, 1), stride=(2, 2))\n",
            "  (pool): AvgPool2d(kernel_size=8, stride=8, padding=0)\n",
            "  (fc): Linear(in_features=64, out_features=10, bias=True)\n",
            ")\n"
          ],
          "name": "stdout"
        }
      ]
    },
    {
      "cell_type": "code",
      "metadata": {
        "id": "Xwl-0v45hF37"
      },
      "source": [
        "from torch import optim as optim\n",
        "criterion=nn.NLLLoss()\n",
        "optimizer=optim.SGD(model.parameters(),lr=0.01)"
      ],
      "execution_count": 10,
      "outputs": []
    },
    {
      "cell_type": "code",
      "metadata": {
        "id": "DI9hs_JYhmOj",
        "colab": {
          "base_uri": "https://localhost:8080/"
        },
        "outputId": "04b100d2-c145-4311-9299-b7747bbae0ce"
      },
      "source": [
        "epochs=10\n",
        "for e in range(epochs):\n",
        "  tloss=0\n",
        "  model.train()\n",
        "  for images,classes in trainloader:\n",
        "    if gpu:\n",
        "      images,classes=images.cuda(),classes.cuda()\n",
        "    optimizer.zero_grad()\n",
        "    output=model(images)\n",
        "    loss=criterion(output,classes)\n",
        "    loss.backward()\n",
        "    optimizer.step()\n",
        "    tloss+=loss.item()\n",
        "    #print(loss.item())\n",
        "  print(\"Training loss epoch\",e+1,\":\",tloss/len(trainloader))\n",
        "\n",
        "  ttloss=0\n",
        "  model.eval()\n",
        "  for images,classes in testloader:\n",
        "    if gpu:\n",
        "      images,classes=images.cuda(),classes.cuda()\n",
        "    output=model(images)\n",
        "    loss=criterion(output,classes)\n",
        "    ttloss+=loss.item()\n",
        "  print(\"Test loss epoch\",e+1,\":\",ttloss/len(testloader))"
      ],
      "execution_count": 11,
      "outputs": [
        {
          "output_type": "stream",
          "text": [
            "Training loss epoch 1 : 2.301597967781984\n",
            "Test loss epoch 1 : 2.2941754196610904\n",
            "Training loss epoch 2 : 2.1588935669120923\n",
            "Test loss epoch 2 : 2.139811635627161\n",
            "Training loss epoch 3 : 1.9549921220525757\n",
            "Test loss epoch 3 : 1.8665366684994125\n",
            "Training loss epoch 4 : 1.8649653271031197\n",
            "Test loss epoch 4 : 2.2369304782594255\n",
            "Training loss epoch 5 : 1.765254335177829\n",
            "Test loss epoch 5 : 1.9704207357238321\n",
            "Training loss epoch 6 : 1.6606706896096544\n",
            "Test loss epoch 6 : 1.7344280246578518\n",
            "Training loss epoch 7 : 1.587932579962494\n",
            "Test loss epoch 7 : 1.78180452609611\n",
            "Training loss epoch 8 : 1.5188596404117087\n",
            "Test loss epoch 8 : 1.524208110921523\n",
            "Training loss epoch 9 : 1.4641558613313739\n",
            "Test loss epoch 9 : 1.4793665642323701\n",
            "Training loss epoch 10 : 1.4130890811495769\n",
            "Test loss epoch 10 : 1.419819954411148\n"
          ],
          "name": "stdout"
        }
      ]
    },
    {
      "cell_type": "code",
      "metadata": {
        "colab": {
          "base_uri": "https://localhost:8080/"
        },
        "id": "aV3aDhvSVLD4",
        "outputId": "2d6da980-f896-4966-fa2b-76ba01ed7eed"
      },
      "source": [
        "from torchsummary import summary\n",
        "summary(model,(3,32,32),64)"
      ],
      "execution_count": 12,
      "outputs": [
        {
          "output_type": "stream",
          "text": [
            "----------------------------------------------------------------\n",
            "        Layer (type)               Output Shape         Param #\n",
            "================================================================\n",
            "            Conv2d-1           [64, 16, 32, 32]             448\n",
            "          Identity-2           [64, 16, 32, 32]               0\n",
            "            Conv2d-3           [64, 16, 32, 32]           2,320\n",
            "            Conv2d-4           [64, 16, 32, 32]           2,320\n",
            "          Identity-5           [64, 16, 32, 32]               0\n",
            "            Conv2d-6           [64, 16, 32, 32]           2,320\n",
            "            Conv2d-7           [64, 16, 32, 32]           2,320\n",
            "          Identity-8           [64, 16, 32, 32]               0\n",
            "            Conv2d-9           [64, 16, 32, 32]           2,320\n",
            "           Conv2d-10           [64, 16, 32, 32]           2,320\n",
            "           Conv2d-11           [64, 32, 16, 16]             544\n",
            "           Conv2d-12           [64, 32, 16, 16]           4,640\n",
            "           Conv2d-13           [64, 32, 16, 16]           9,248\n",
            "         Identity-14           [64, 32, 16, 16]               0\n",
            "           Conv2d-15           [64, 32, 16, 16]           9,248\n",
            "           Conv2d-16           [64, 32, 16, 16]           9,248\n",
            "         Identity-17           [64, 32, 16, 16]               0\n",
            "           Conv2d-18           [64, 32, 16, 16]           9,248\n",
            "           Conv2d-19           [64, 32, 16, 16]           9,248\n",
            "           Conv2d-20             [64, 64, 8, 8]           2,112\n",
            "           Conv2d-21             [64, 64, 8, 8]          18,496\n",
            "           Conv2d-22             [64, 64, 8, 8]          36,928\n",
            "         Identity-23             [64, 64, 8, 8]               0\n",
            "           Conv2d-24             [64, 64, 8, 8]          36,928\n",
            "           Conv2d-25             [64, 64, 8, 8]          36,928\n",
            "         Identity-26             [64, 64, 8, 8]               0\n",
            "           Conv2d-27             [64, 64, 8, 8]          36,928\n",
            "           Conv2d-28             [64, 64, 8, 8]          36,928\n",
            "        AvgPool2d-29             [64, 64, 1, 1]               0\n",
            "           Linear-30                   [64, 10]             650\n",
            "================================================================\n",
            "Total params: 271,690\n",
            "Trainable params: 271,690\n",
            "Non-trainable params: 0\n",
            "----------------------------------------------------------------\n",
            "Input size (MB): 0.75\n",
            "Forward/backward pass size (MB): 134.04\n",
            "Params size (MB): 1.04\n",
            "Estimated Total Size (MB): 135.82\n",
            "----------------------------------------------------------------\n"
          ],
          "name": "stdout"
        }
      ]
    },
    {
      "cell_type": "code",
      "metadata": {
        "colab": {
          "base_uri": "https://localhost:8080/"
        },
        "id": "Ddv1L6-tUAv0",
        "outputId": "ce994466-d92c-43bc-e4e1-1c89b92974de"
      },
      "source": [
        "# track test loss\n",
        "test_loss = 0.0\n",
        "class_correct = list(0. for i in range(10))\n",
        "class_total = list(0. for i in range(10))\n",
        "\n",
        "model.eval()\n",
        "# iterate over test data\n",
        "for data, target in testloader:\n",
        "    # move tensors to GPU if CUDA is available\n",
        "    if gpu:\n",
        "        data, target = data.cuda(), target.cuda()\n",
        "    # forward pass: compute predicted outputs by passing inputs to the model\n",
        "    output = model(data)\n",
        "    # calculate the batch loss\n",
        "    loss = criterion(output, target)\n",
        "    # update test loss \n",
        "    test_loss += loss.item()*data.size(0)\n",
        "    # convert output probabilities to predicted class\n",
        "    _, pred = torch.max(output, 1)    \n",
        "    # compare predictions to true label\n",
        "    correct_tensor = pred.eq(target.data.view_as(pred))\n",
        "    correct = np.squeeze(correct_tensor.numpy()) if not gpu else np.squeeze(correct_tensor.cpu().numpy())\n",
        "    # calculate test accuracy for each object class\n",
        "    for i in range(target.shape[0]):\n",
        "        label = target.data[i]\n",
        "        class_correct[label] += correct[i].item()\n",
        "        class_total[label] += 1\n",
        "\n",
        "# average test loss\n",
        "test_loss = test_loss/len(testloader.dataset)\n",
        "print('Test Loss: {:.6f}\\n'.format(test_loss))\n",
        "\n",
        "for i in range(10):\n",
        "    if class_total[i] > 0:\n",
        "        print('Test Accuracy of %5s: %2d%% (%2d/%2d)' % (\n",
        "            classes[i], 100 * class_correct[i] / class_total[i],\n",
        "            np.sum(class_correct[i]), np.sum(class_total[i])))\n",
        "    else:\n",
        "        print('Test Accuracy of %5s: N/A (no training examples)' % (classes[i]))\n",
        "\n",
        "print('\\nTest Accuracy (Overall): %2d%% (%2d/%2d)' % (\n",
        "    100. * np.sum(class_correct) / np.sum(class_total),\n",
        "    np.sum(class_correct), np.sum(class_total)))"
      ],
      "execution_count": 21,
      "outputs": [
        {
          "output_type": "stream",
          "text": [
            "Test Loss: 1.419690\n",
            "\n",
            "Test Accuracy of tensor(5, device='cuda:0'): 63% (3168/5000)\n",
            "Test Accuracy of tensor(6, device='cuda:0'): 69% (3491/5000)\n",
            "Test Accuracy of tensor(9, device='cuda:0'): 31% (1579/5000)\n",
            "Test Accuracy of tensor(7, device='cuda:0'): 33% (1693/5000)\n",
            "Test Accuracy of tensor(1, device='cuda:0'): 24% (1222/5000)\n",
            "Test Accuracy of tensor(3, device='cuda:0'): 18% (900/5000)\n",
            "Test Accuracy of tensor(3, device='cuda:0'): 81% (4073/5000)\n",
            "Test Accuracy of tensor(4, device='cuda:0'): 67% (3387/5000)\n",
            "Test Accuracy of tensor(5, device='cuda:0'): 33% (1675/5000)\n",
            "Test Accuracy of tensor(1, device='cuda:0'): 52% (2642/5000)\n",
            "\n",
            "Test Accuracy (Overall): 47% (23830/50000)\n"
          ],
          "name": "stdout"
        }
      ]
    }
  ]
}