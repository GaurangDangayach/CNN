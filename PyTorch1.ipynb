{
  "nbformat": 4,
  "nbformat_minor": 0,
  "metadata": {
    "colab": {
      "name": "PyTorch1.ipynb",
      "provenance": [],
      "collapsed_sections": []
    },
    "kernelspec": {
      "name": "python3",
      "display_name": "Python 3"
    },
    "language_info": {
      "name": "python"
    }
  },
  "cells": [
    {
      "cell_type": "markdown",
      "metadata": {
        "id": "qqh9YsFc9SmQ"
      },
      "source": [
        "# Introduction to Deep Learning with PyTorch"
      ]
    },
    {
      "cell_type": "code",
      "metadata": {
        "id": "4jIPJCkSHQSe"
      },
      "source": [
        "import torch"
      ],
      "execution_count": null,
      "outputs": []
    },
    {
      "cell_type": "code",
      "metadata": {
        "id": "h-CCHBBxHgnS"
      },
      "source": [
        "def activation(x):\n",
        "    \"\"\" Sigmoid activation function \n",
        "    \n",
        "        Arguments\n",
        "        ---------\n",
        "        x: torch.Tensor\n",
        "    \"\"\"\n",
        "    return 1/(1+torch.exp(-x))"
      ],
      "execution_count": null,
      "outputs": []
    },
    {
      "cell_type": "code",
      "metadata": {
        "colab": {
          "base_uri": "https://localhost:8080/"
        },
        "id": "uhW0GFu6HkEJ",
        "outputId": "f16d9be7-8194-42ec-d76d-0f1387087dc0"
      },
      "source": [
        "### Generate some data\n",
        "torch.manual_seed(7) # Set the random seed so things are predictable\n",
        "\n",
        "# Features are 3 random normal variables\n",
        "features = torch.randn((1, 5))\n",
        "# True weights for our data, random normal variables again\n",
        "weights = torch.randn_like(features)\n",
        "# and a true bias term\n",
        "bias = torch.randn((1, 1))\n",
        "print(features)\n",
        "print(weights)"
      ],
      "execution_count": null,
      "outputs": [
        {
          "output_type": "stream",
          "text": [
            "tensor([[-0.1468,  0.7861,  0.9468, -1.1143,  1.6908]])\n",
            "tensor([[-0.8948, -0.3556,  1.2324,  0.1382, -1.6822]])\n"
          ],
          "name": "stdout"
        }
      ]
    },
    {
      "cell_type": "markdown",
      "metadata": {
        "id": "CPctRdVM9JsI"
      },
      "source": [
        "Exercise: Calculate the output of the network with input features features, weights weights, and bias bias. Similar to Numpy, PyTorch has a torch.sum() function, as well as a .sum() method on tensors, for taking sums. Use the function activation defined above as the activation function."
      ]
    },
    {
      "cell_type": "code",
      "metadata": {
        "colab": {
          "base_uri": "https://localhost:8080/"
        },
        "id": "SLD-81seH5jv",
        "outputId": "1bc3f82c-8e54-46df-ef84-05652c264be4"
      },
      "source": [
        "output=activation(torch.sum(features*weights)+bias)\n",
        "output"
      ],
      "execution_count": null,
      "outputs": [
        {
          "output_type": "execute_result",
          "data": {
            "text/plain": [
              "tensor([[0.1595]])"
            ]
          },
          "metadata": {
            "tags": []
          },
          "execution_count": 9
        }
      ]
    },
    {
      "cell_type": "markdown",
      "metadata": {
        "id": "tDnGlUpL9ELQ"
      },
      "source": [
        "Exercise: Calculate the output of our little network using matrix multiplication."
      ]
    },
    {
      "cell_type": "code",
      "metadata": {
        "colab": {
          "base_uri": "https://localhost:8080/"
        },
        "id": "eNqI1D-k1CUW",
        "outputId": "a4863012-dce8-409c-e724-bf9580b8752d"
      },
      "source": [
        "features=features.view(5,1)\n",
        "output=activation(torch.mm(weights,features)+bias)\n",
        "output"
      ],
      "execution_count": null,
      "outputs": [
        {
          "output_type": "execute_result",
          "data": {
            "text/plain": [
              "tensor([[0.1595]])"
            ]
          },
          "metadata": {
            "tags": []
          },
          "execution_count": 16
        }
      ]
    },
    {
      "cell_type": "code",
      "metadata": {
        "id": "-7KDS1fi4DUD"
      },
      "source": [
        "### Generate some data\n",
        "torch.manual_seed(7) # Set the random seed so things are predictable\n",
        "\n",
        "# Features are 3 random normal variables\n",
        "features = torch.randn((1, 3))\n",
        "\n",
        "# Define the size of each layer in our network\n",
        "n_input = features.shape[1]     # Number of input units, must match number of input features\n",
        "n_hidden = 2                    # Number of hidden units \n",
        "n_output = 1                    # Number of output units\n",
        "\n",
        "# Weights for inputs to hidden layer\n",
        "W1 = torch.randn(n_input, n_hidden)\n",
        "# Weights for hidden layer to output layer\n",
        "W2 = torch.randn(n_hidden, n_output)\n",
        "\n",
        "# and bias terms for hidden and output layers\n",
        "B1 = torch.randn((1, n_hidden))\n",
        "B2 = torch.randn((1, n_output))"
      ],
      "execution_count": null,
      "outputs": []
    },
    {
      "cell_type": "markdown",
      "metadata": {
        "id": "_3pBHTpi88jh"
      },
      "source": [
        "Exercise: Calculate the output for this multi-layer network using the weights W1 & W2, and the biases, B1 & B2."
      ]
    },
    {
      "cell_type": "code",
      "metadata": {
        "colab": {
          "base_uri": "https://localhost:8080/"
        },
        "id": "SYzH_Qjq6rHl",
        "outputId": "282bf0d7-7e69-4cf8-f3b2-cdd74ef9f04c"
      },
      "source": [
        "hidden=activation(torch.mm(features,W1)+B1)\n",
        "output=activation(torch.mm(hidden,W2)+B2)\n",
        "output"
      ],
      "execution_count": null,
      "outputs": [
        {
          "output_type": "execute_result",
          "data": {
            "text/plain": [
              "tensor([[0.3171]])"
            ]
          },
          "metadata": {
            "tags": []
          },
          "execution_count": 21
        }
      ]
    },
    {
      "cell_type": "code",
      "metadata": {
        "colab": {
          "base_uri": "https://localhost:8080/"
        },
        "id": "BVtAMIvR76XW",
        "outputId": "040a848a-35ea-4a53-d31d-09b2d87d0f6b"
      },
      "source": [
        "import numpy as np\n",
        "a = np.random.rand(4,3)\n",
        "a"
      ],
      "execution_count": null,
      "outputs": [
        {
          "output_type": "execute_result",
          "data": {
            "text/plain": [
              "array([[0.67222868, 0.65339023, 0.90379652],\n",
              "       [0.92379226, 0.34886848, 0.12975911],\n",
              "       [0.58871283, 0.61270404, 0.73039271],\n",
              "       [0.08059921, 0.22041439, 0.708564  ]])"
            ]
          },
          "metadata": {
            "tags": []
          },
          "execution_count": 23
        }
      ]
    },
    {
      "cell_type": "code",
      "metadata": {
        "colab": {
          "base_uri": "https://localhost:8080/"
        },
        "id": "83xfewXD8aeb",
        "outputId": "2a18f43d-6bc5-4686-88a8-92e15ec7f67d"
      },
      "source": [
        "b = torch.from_numpy(a)\n",
        "b"
      ],
      "execution_count": null,
      "outputs": [
        {
          "output_type": "execute_result",
          "data": {
            "text/plain": [
              "tensor([[0.6722, 0.6534, 0.9038],\n",
              "        [0.9238, 0.3489, 0.1298],\n",
              "        [0.5887, 0.6127, 0.7304],\n",
              "        [0.0806, 0.2204, 0.7086]], dtype=torch.float64)"
            ]
          },
          "metadata": {
            "tags": []
          },
          "execution_count": 24
        }
      ]
    },
    {
      "cell_type": "code",
      "metadata": {
        "colab": {
          "base_uri": "https://localhost:8080/"
        },
        "id": "dpPaGvuH8sG1",
        "outputId": "afb77462-f336-413e-c704-10c34c28f81c"
      },
      "source": [
        "b.numpy()"
      ],
      "execution_count": null,
      "outputs": [
        {
          "output_type": "execute_result",
          "data": {
            "text/plain": [
              "array([[0.67222868, 0.65339023, 0.90379652],\n",
              "       [0.92379226, 0.34886848, 0.12975911],\n",
              "       [0.58871283, 0.61270404, 0.73039271],\n",
              "       [0.08059921, 0.22041439, 0.708564  ]])"
            ]
          },
          "metadata": {
            "tags": []
          },
          "execution_count": 25
        }
      ]
    },
    {
      "cell_type": "code",
      "metadata": {
        "colab": {
          "base_uri": "https://localhost:8080/"
        },
        "id": "uNIZXX7U8wby",
        "outputId": "1c5ddf8c-9212-4661-c9e5-381fa3156a61"
      },
      "source": [
        "b.mul_(2)\n",
        "a"
      ],
      "execution_count": null,
      "outputs": [
        {
          "output_type": "execute_result",
          "data": {
            "text/plain": [
              "array([[1.34445736, 1.30678047, 1.80759304],\n",
              "       [1.84758453, 0.69773695, 0.25951823],\n",
              "       [1.17742567, 1.22540807, 1.46078542],\n",
              "       [0.16119842, 0.44082879, 1.41712801]])"
            ]
          },
          "metadata": {
            "tags": []
          },
          "execution_count": 26
        }
      ]
    }
  ]
}